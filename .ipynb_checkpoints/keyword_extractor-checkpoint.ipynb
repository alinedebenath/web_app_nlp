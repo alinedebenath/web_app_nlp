{
 "cells": [
  {
   "cell_type": "markdown",
   "metadata": {},
   "source": [
    "# <center>Keyword extractor</center>"
   ]
  },
  {
   "cell_type": "markdown",
   "metadata": {},
   "source": [
    "Ressources :<br>\n",
    "Rake : https://github.com/vgrabovets/multi_rake <br>\n",
    "Keyword extractor perso = every word except stop_words -> lemmatizer to apply to keep only the root<br>\n",
    "Keyword extractor summa = words more pertinent -> warning with summary test (no Japon)...<br>\n",
    "Keyword extractor Rake = words more pertinent -> same as summa, no Japon...<br>"
   ]
  },
  {
   "cell_type": "markdown",
   "metadata": {},
   "source": [
    "## Function "
   ]
  },
  {
   "cell_type": "code",
   "execution_count": 1,
   "metadata": {},
   "outputs": [],
   "source": [
    "#keywords= lower, strip, token, summa-keywords\n",
    "from nltk.corpus import stopwords\n",
    "stop_words = stopwords.words('french')\n",
    "new_stop_words = ['plus','quels','quel','quelle','quelles','tout','toutes']\n",
    "for word in new_stop_words:\n",
    "    stop_words.append(word)\n",
    "def keywordizer(path,encoding):\n",
    "    import re\n",
    "    text = open(path,'r',encoding=encoding)\n",
    "    text = text.read()\n",
    "    text = text.lower().strip()\n",
    "    text = re.sub('(@\\S+)|\\s\\s+|[^\\w\\s]|\\d+',' ',text) #\\d+ = suppr numbers but what about dates, WW2 ?\n",
    "    from nltk.tokenize import word_tokenize\n",
    "    text = word_tokenize(text)\n",
    "    text = [word for word in text if word not in stop_words]\n",
    "    text = [word for word in text if len(word)>1]\n",
    "    import numpy as np\n",
    "    text = np.unique(text)\n",
    "    return print(text)"
   ]
  },
  {
   "cell_type": "code",
   "execution_count": 2,
   "metadata": {},
   "outputs": [
    {
     "name": "stdout",
     "output_type": "stream",
     "text": [
      "au, aux, avec, ce, ces, dans, de, des, du, elle, en, et, eux, il, ils, je, la, le, les, leur, lui, ma, mais, me, même, mes, moi, mon, ne, nos, notre, nous, on, ou, par, pas, pour, qu, que, qui, sa, se, ses, son, sur, ta, te, tes, toi, ton, tu, un, une, vos, votre, vous, c, d, j, l, à, m, n, s, t, y, été, étée, étées, étés, étant, étante, étants, étantes, suis, es, est, sommes, êtes, sont, serai, seras, sera, serons, serez, seront, serais, serait, serions, seriez, seraient, étais, était, étions, étiez, étaient, fus, fut, fûmes, fûtes, furent, sois, soit, soyons, soyez, soient, fusse, fusses, fût, fussions, fussiez, fussent, ayant, ayante, ayantes, ayants, eu, eue, eues, eus, ai, as, avons, avez, ont, aurai, auras, aura, aurons, aurez, auront, aurais, aurait, aurions, auriez, auraient, avais, avait, avions, aviez, avaient, eut, eûmes, eûtes, eurent, aie, aies, ait, ayons, ayez, aient, eusse, eusses, eût, eussions, eussiez, eussent, plus, quels, quel, quelle, quelles, tout, toutes\n"
     ]
    }
   ],
   "source": [
    "print(', '.join([str(elem) for elem in stop_words]))"
   ]
  },
  {
   "cell_type": "code",
   "execution_count": 3,
   "metadata": {},
   "outputs": [
    {
     "name": "stdout",
     "output_type": "stream",
     "text": [
      "['anecdotes' 'bento' 'cartes' 'comment' 'compose' 'coup' 'coutumes'\n",
      " 'cuisine' 'découverte' 'emballer' 'entièrement' 'façonner' 'fréquents'\n",
      " 'garnir' 'gestes' 'histoires' 'illustré' 'ingrédients' 'invitation'\n",
      " 'izakaya' 'japonais' 'japonaise' 'japonaises' 'livre' 'miso' 'plats'\n",
      " 'pose' 'questions' 'recette' 'recettes' 'repas' 'réponses' 'saveurs'\n",
      " 'savoir' 'soupe' 'sushi' 'techniques' 'traditionnelle' 'ustensiles' 'œil']\n"
     ]
    }
   ],
   "source": [
    "keywordizer('resume_cuisine-jap.txt','utf-8')"
   ]
  },
  {
   "cell_type": "markdown",
   "metadata": {},
   "source": [
    "## Summa alternative"
   ]
  },
  {
   "cell_type": "code",
   "execution_count": 4,
   "metadata": {},
   "outputs": [
    {
     "data": {
      "text/plain": [
       "['comment',\n",
       " 'toutes',\n",
       " 'recettes',\n",
       " 'recette',\n",
       " 'japonaise',\n",
       " 'japonaises',\n",
       " 'entièrement',\n",
       " 'illustré',\n",
       " 'tout',\n",
       " 'questions',\n",
       " 'ustensiles',\n",
       " 'ingrédients']"
      ]
     },
     "execution_count": 4,
     "metadata": {},
     "output_type": "execute_result"
    }
   ],
   "source": [
    "text = open('resume_cuisine-jap.txt','r',encoding='utf-8')\n",
    "text = text.read()\n",
    "from nltk.corpus import stopwords\n",
    "stop_words = stopwords.words('french')\n",
    "text = text.split()\n",
    "text = [word for word in text if word not in stop_words]\n",
    "text = ' '.join(text)\n",
    "from summa import keywords\n",
    "keywords = keywords.keywords(text)\n",
    "keywords.split()"
   ]
  },
  {
   "cell_type": "markdown",
   "metadata": {},
   "source": [
    "## Rake alternative"
   ]
  },
  {
   "cell_type": "code",
   "execution_count": 5,
   "metadata": {},
   "outputs": [
    {
     "name": "stdout",
     "output_type": "stream",
     "text": [
      "[('recettes', 1.0), ('anecdotes', 1.0), ('histoires', 1.0), ('cartes', 1.0), ('gestes', 1.0), ('techniques', 1.0), ('ustensiles', 1.0), ('ingrédients', 1.0), ('plats', 1.0)]\n"
     ]
    }
   ],
   "source": [
    "from multi_rake import Rake\n",
    "text = open('resume_cuisine-jap.txt','r',encoding='utf-8')\n",
    "text = text.read()\n",
    "from nltk.corpus import stopwords\n",
    "stop_words = stopwords.words('french')\n",
    "text = text.split()\n",
    "text = [word for word in text if word not in stop_words]\n",
    "text = ' '.join(text)\n",
    "r = Rake(max_words=1)\n",
    "keywords = r.apply(text)\n",
    "print(keywords[:20])"
   ]
  }
 ],
 "metadata": {
  "kernelspec": {
   "display_name": "Python 3",
   "language": "python",
   "name": "python3"
  },
  "language_info": {
   "codemirror_mode": {
    "name": "ipython",
    "version": 3
   },
   "file_extension": ".py",
   "mimetype": "text/x-python",
   "name": "python",
   "nbconvert_exporter": "python",
   "pygments_lexer": "ipython3",
   "version": "3.7.6"
  }
 },
 "nbformat": 4,
 "nbformat_minor": 4
}
