{
 "cells": [
  {
   "cell_type": "markdown",
   "metadata": {},
   "source": [
    "# <center>Keyword extractor and summarizer</center>"
   ]
  },
  {
   "cell_type": "markdown",
   "metadata": {},
   "source": [
    "Ressources \n",
    "Unicode : https://stackoverflow.com/questions/17912307/u-ufeff-in-python-string\n",
    "Rake : https://github.com/vgrabovets/multi_rake"
   ]
  },
  {
   "cell_type": "markdown",
   "metadata": {},
   "source": [
    "Keyword extractor perso = every word except stop_words -> lemmatizer to apply to keep only the root\n",
    "Keyword extractor summa = words more pertinent -> warning with summary test (no Japon)...\n",
    "Keyword extractor Rake = words more pertinent -> same as summa, no Japon..."
   ]
  },
  {
   "cell_type": "code",
   "execution_count": 63,
   "metadata": {},
   "outputs": [],
   "source": [
    "#keywords= lower, strip, token, summa-keywords\n",
    "from nltk.corpus import stopwords\n",
    "stop_words = stopwords.words('french')\n",
    "new_stop_words = ['plus','quels','quel','quelle','quelles','tout','toutes']\n",
    "for word in new_stop_words:\n",
    "    stop_words.append(word)\n",
    "def keywordizer(path,encoding):\n",
    "    import re\n",
    "    text = open(path,'r',encoding=encoding)\n",
    "    text = text.read()\n",
    "    text = text.lower().strip()\n",
    "    text = re.sub('(@\\S+)|\\s\\s+|[^\\w\\s]',' ',text)\n",
    "    from nltk.tokenize import word_tokenize\n",
    "    text = word_tokenize(text)\n",
    "    text = [word for word in text if word not in stop_words]\n",
    "    import numpy as np\n",
    "    text = np.unique(text)\n",
    "    return print(text)"
   ]
  },
  {
   "cell_type": "code",
   "execution_count": 64,
   "metadata": {},
   "outputs": [
    {
     "name": "stdout",
     "output_type": "stream",
     "text": [
      "['anecdotes' 'bento' 'cartes' 'comment' 'compose' 'coup' 'coutumes'\n",
      " 'cuisine' 'découverte' 'emballer' 'entièrement' 'façonner' 'fréquents'\n",
      " 'garnir' 'gestes' 'histoires' 'illustré' 'ingrédients' 'invitation'\n",
      " 'izakaya' 'japonais' 'japonaise' 'japonaises' 'livre' 'miso' 'plats'\n",
      " 'pose' 'questions' 'recette' 'recettes' 'repas' 'réponses' 'saveurs'\n",
      " 'savoir' 'soupe' 'sushi' 'techniques' 'traditionnelle' 'ustensiles' 'œil']\n"
     ]
    }
   ],
   "source": [
    "keywordizer('resume_cuisine-jap.txt','utf-8')"
   ]
  },
  {
   "cell_type": "code",
   "execution_count": 19,
   "metadata": {},
   "outputs": [
    {
     "data": {
      "text/plain": [
       "['comment',\n",
       " 'toutes',\n",
       " 'recettes',\n",
       " 'recette',\n",
       " 'japonaise',\n",
       " 'japonaises',\n",
       " 'entièrement',\n",
       " 'illustré',\n",
       " 'tout',\n",
       " 'questions',\n",
       " 'ustensiles',\n",
       " 'ingrédients']"
      ]
     },
     "execution_count": 19,
     "metadata": {},
     "output_type": "execute_result"
    }
   ],
   "source": [
    "text = open('resume_cuisine-jap.txt','r',encoding='utf-8')\n",
    "text = text.read()\n",
    "from nltk.corpus import stopwords\n",
    "stop_words = stopwords.words('french')\n",
    "text = text.split()\n",
    "text = [word for word in text if word not in stop_words]\n",
    "text = ' '.join(text)\n",
    "from summa import keywords\n",
    "keywords = keywords.keywords(text)\n",
    "keywords.split()"
   ]
  },
  {
   "cell_type": "code",
   "execution_count": 15,
   "metadata": {},
   "outputs": [
    {
     "name": "stdout",
     "output_type": "stream",
     "text": [
      "[('recettes', 1.0), ('anecdotes', 1.0), ('histoires', 1.0), ('cartes', 1.0), ('gestes', 1.0), ('techniques', 1.0), ('ustensiles', 1.0), ('ingrédients', 1.0), ('plats', 1.0)]\n"
     ]
    }
   ],
   "source": [
    "from multi_rake import Rake\n",
    "text = open('resume_cuisine-jap.txt','r',encoding='utf-8')\n",
    "text = text.read()\n",
    "from nltk.corpus import stopwords\n",
    "stop_words = stopwords.words('french')\n",
    "text = text.split()\n",
    "text = [word for word in text if word not in stop_words]\n",
    "text = ' '.join(text)\n",
    "r = Rake(max_words=1)\n",
    "keywords = r.apply(text)\n",
    "print(keywords[:20])"
   ]
  },
  {
   "cell_type": "code",
   "execution_count": 8,
   "metadata": {},
   "outputs": [],
   "source": [
    "from sumy.parsers.plaintext import PlaintextParser\n",
    "from sumy.nlp.tokenizers import Tokenizer\n",
    "from sumy.summarizers.lex_rank import LexRankSummarizer\n",
    "def summarizer(path,encoding):\n",
    "\tdocx = open(path,'r',encoding=encoding)\n",
    "\tdocx = docx.read()\n",
    "\tparser = PlaintextParser.from_string(docx,Tokenizer(\"french\"))\n",
    "\tlex_summarizer = LexRankSummarizer()\n",
    "\tsummary = lex_summarizer(parser.document,3)\n",
    "\tsummary_list = [str(sentence) for sentence in summary]\n",
    "\tresult = ' '.join(summary_list)\n",
    "\treturn result"
   ]
  },
  {
   "cell_type": "code",
   "execution_count": 9,
   "metadata": {},
   "outputs": [
    {
     "data": {
      "text/plain": [
       "'\\ufeffUn livre entièrement illustré pour tout savoir sur la cuisine japonaise ! Des recettes, des anecdotes, des histoires, des cartes, des gestes, des techniques, des ustensiles, des ingrédients… Une invitation à la découverte des coutumes et des saveurs japonaises !Comment façonner les sushi ? Quelle est la recette traditionnelle de la soupe miso ?'"
      ]
     },
     "execution_count": 9,
     "metadata": {},
     "output_type": "execute_result"
    }
   ],
   "source": [
    "summarizer('resume_cuisine-jap.txt','utf-8')"
   ]
  },
  {
   "cell_type": "code",
   "execution_count": 65,
   "metadata": {},
   "outputs": [],
   "source": [
    "# NLP Pkgs\n",
    "import spacy \n",
    "import re\n",
    "nlp = spacy.load('fr_core_news_sm')\n",
    "# Pkgs for Normalizing Text\n",
    "from spacy.lang.fr.stop_words import STOP_WORDS\n",
    "from string import punctuation\n",
    "# Import Heapq for Finding the Top N Sentences\n",
    "from heapq import nlargest\n",
    "from nltk.corpus import stopwords\n",
    "\n",
    "\n",
    "def text_summarizer(path,encoding):\n",
    "    raw_docx = open(path,'r',encoding=encoding)\n",
    "    raw_docx = raw_docx.read()#.lower().strip()\n",
    "    docx = nlp(raw_docx)\n",
    "    stop_words = stopwords.words('french')\n",
    "    # Build Word Frequency # word.text is tokenization in spacy\n",
    "    word_frequencies = {}  \n",
    "    for word in docx:\n",
    "        if word.text not in stop_words:\n",
    "            if word.text not in word_frequencies.keys():\n",
    "                word_frequencies[word.text] = 1\n",
    "            else:\n",
    "                word_frequencies[word.text] += 1\n",
    "\n",
    "\n",
    "    maximum_frequncy = max(word_frequencies.values())\n",
    "\n",
    "    for word in word_frequencies.keys():  \n",
    "        word_frequencies[word] = (word_frequencies[word]/maximum_frequncy)\n",
    "    # Sentence Tokens\n",
    "    sentence_list = [ sentence for sentence in docx.sents ]\n",
    "\n",
    "    # Sentence Scores\n",
    "    sentence_scores = {}  \n",
    "    for sent in sentence_list:  \n",
    "        for word in sent:\n",
    "            if word.text.lower() in word_frequencies.keys():\n",
    "                if len(sent.text.split(' ')) < 30:\n",
    "                    if sent not in sentence_scores.keys():\n",
    "                        sentence_scores[sent] = word_frequencies[word.text.lower()]\n",
    "                    else:\n",
    "                        sentence_scores[sent] += word_frequencies[word.text.lower()]\n",
    "\n",
    "\n",
    "    summarized_sentences = nlargest(3, sentence_scores, key=sentence_scores.get)\n",
    "    final_sentences = [ w.text for w in summarized_sentences ]\n",
    "    summary = ' '.join(final_sentences)\n",
    "    return summary"
   ]
  },
  {
   "cell_type": "code",
   "execution_count": 66,
   "metadata": {},
   "outputs": [
    {
     "data": {
      "text/plain": [
       "\"Partout, les eaux avaient monté, les rivières enflées, on consolidait les digues, on en bâtissait d'autres, plus hautes, mais qui se révélaient de nouveau insuffisantes. Le phénomène, inexplicable, échappait à toute logique, à toute prévision, à tout modèle, à toute saison. \\n Sur le port, les réfugiés se battent pour prendre place dans les derniers bateaux, pris de panique, convaincus qu'il s’agit là du dernier espoir de s'en sortir.\""
      ]
     },
     "execution_count": 66,
     "metadata": {},
     "output_type": "execute_result"
    }
   ],
   "source": [
    "text_summarizer('resume_pluies.txt','utf-8')"
   ]
  },
  {
   "cell_type": "code",
   "execution_count": 68,
   "metadata": {},
   "outputs": [
    {
     "data": {
      "text/plain": [
       "\"Des recettes, des anecdotes, des histoires, des cartes, des gestes, des techniques, des ustensiles, des ingrédients… En un coup d’œil, toutes les réponses aux questions que l'on se pose ! Un livre entièrement illustré pour tout savoir sur la cuisine japonaise !\""
      ]
     },
     "execution_count": 68,
     "metadata": {},
     "output_type": "execute_result"
    }
   ],
   "source": [
    "text_summarizer('resume_cuisine-jap.txt','utf-8-sig')"
   ]
  },
  {
   "cell_type": "code",
   "execution_count": null,
   "metadata": {},
   "outputs": [],
   "source": []
  }
 ],
 "metadata": {
  "kernelspec": {
   "display_name": "Python 3",
   "language": "python",
   "name": "python3"
  },
  "language_info": {
   "codemirror_mode": {
    "name": "ipython",
    "version": 3
   },
   "file_extension": ".py",
   "mimetype": "text/x-python",
   "name": "python",
   "nbconvert_exporter": "python",
   "pygments_lexer": "ipython3",
   "version": "3.7.6"
  }
 },
 "nbformat": 4,
 "nbformat_minor": 4
}
